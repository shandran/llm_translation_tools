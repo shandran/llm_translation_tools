{
 "cells": [
  {
   "cell_type": "markdown",
   "id": "3091323f-9b5c-4b67-a397-4a646d55e41c",
   "metadata": {},
   "source": [
    "**LLM Translation with Evaluator Proofreading (Markdown version)**    \n",
    "Using code created by Ed Donner in his Udemy Agentic AI course  \n",
    "*Translator: Gemini model*  \n",
    "*Evaluator: OpenAI model*  \n",
    "\n",
    "George MacDonald's [***The Princess and the Goblin***](https://github.com/mlschmitt/classic-books-markdown/blob/main/George%20MacDonald/The%20Princess%20and%20the%20Goblin.md) markdown file available from [**Michael Schmitt**](https://github.com/mlschmitt)'s [**classic-books-markdown**](https://github.com/mlschmitt/classic-books-markdown) repo on GitHub. "
   ]
  },
  {
   "cell_type": "markdown",
   "id": "a992e9b2-79a5-48ce-87f9-243a2653b231",
   "metadata": {},
   "source": [
    "### Set up"
   ]
  },
  {
   "cell_type": "code",
   "execution_count": 1,
   "id": "49ee7bed-3477-4520-ac75-2d1b1fa3a8b9",
   "metadata": {},
   "outputs": [],
   "source": [
    "import os\n",
    "import json\n",
    "from dotenv import load_dotenv\n",
    "from openai import OpenAI\n",
    "from anthropic import Anthropic\n",
    "import google.generativeai as genai\n",
    "from IPython.display import Markdown, display\n",
    "from docx import Document\n",
    "import re\n",
    "import tiktoken\n",
    "import time\n",
    "import os\n",
    "from datetime import datetime\n",
    "from collections import Counter\n",
    "from openai import NotFoundError"
   ]
  },
  {
   "cell_type": "code",
   "execution_count": 2,
   "id": "06f04c8b-3e6a-43fc-a9a3-1d24839a9a6f",
   "metadata": {},
   "outputs": [
    {
     "data": {
      "text/plain": [
       "True"
      ]
     },
     "execution_count": 2,
     "metadata": {},
     "output_type": "execute_result"
    }
   ],
   "source": [
    "# load API keys\n",
    "load_dotenv(override=True)"
   ]
  },
  {
   "cell_type": "code",
   "execution_count": 3,
   "id": "c50bcc87-4f0c-4a1f-91ae-7d70a1d6c103",
   "metadata": {},
   "outputs": [],
   "source": [
    "# Print the key prefixes to help with any debugging\n",
    "openai_api_key = os.getenv('OPENAI_API_KEY')\n",
    "genai.configure(api_key=os.environ[\"GEMINI_API_KEY\"])\n",
    "anthropic_api_key = os.getenv('ANTHROPIC_API_KEY')"
   ]
  },
  {
   "cell_type": "code",
   "execution_count": 4,
   "id": "1abae4ec-a458-4a2c-b69a-a98fb6ed2bf7",
   "metadata": {},
   "outputs": [],
   "source": [
    "# LLM model to use\n",
    "openai_model =  'gpt-4o' # 'o3-2025-04-16' # For better quality but higher cost: 'o3-2025-04-16' # 200K context window 100K max output tokens $2/$8\n",
    "gemini_model = 'gemini-2.5-flash' # gemini-2.5-pro' # 1M context window 65K max output tokens $1.25/$10 <200K $2.50/$15 >=200K tokens \n",
    "claude_model = 'claude-sonnet-4-0' # 200K context window 65K max output tokens $3/$15\n",
    "\n",
    "openai = OpenAI()\n",
    "claude = Anthropic()\n",
    "gemini = genai.GenerativeModel(model_name=gemini_model)\n",
    "\n",
    "# define languages\n",
    "source_language = 'English'\n",
    "translated_language = 'Traditional Chinese'"
   ]
  },
  {
   "cell_type": "code",
   "execution_count": 5,
   "id": "f9670ff3-5288-4096-915a-07b8b6f71562",
   "metadata": {},
   "outputs": [
    {
     "name": "stdout",
     "output_type": "stream",
     "text": [
      "Gemini model: gemini-2.5-pro\n",
      "OpenAI model: o3-2025-04-16\n",
      "Claude model: claude-sonnet-4-0\n",
      "Translation language: Traditional Chinese\n"
     ]
    }
   ],
   "source": [
    "print(f\"Gemini model: {gemini_model}\")\n",
    "print(f\"OpenAI model: {openai_model}\")\n",
    "print(f\"Claude model: {claude_model}\")\n",
    "print(f\"Translation language: {translated_language}\")"
   ]
  },
  {
   "cell_type": "code",
   "execution_count": 6,
   "id": "2d53a135-d596-41a2-ac5c-1864ef811e16",
   "metadata": {},
   "outputs": [],
   "source": [
    "# Open md document with source material\n",
    "filename = \"George_MacDonald_The_Princess_and_the_Goblin_50_lines.md\""
   ]
  },
  {
   "cell_type": "code",
   "execution_count": 7,
   "id": "c74b9726-ffc4-4245-9af5-84e39d5899bf",
   "metadata": {},
   "outputs": [
    {
     "name": "stdout",
     "output_type": "stream",
     "text": [
      "\n",
      "--- Chunk 1 (265 tokens) of 12 ---\n",
      "# Title: The Princess and the Goblin\n",
      "\n",
      "## Author: George MacDonald\n",
      "\n",
      "## Year: 1872\n",
      "\n",
      "-------\n",
      "\n",
      "###  CHAPTER 1 - Why the Princess Has a Story About Her\n",
      "\n",
      "There was once a little princess whose father was king over a great country full of mountains and valleys. His palace was built upon one of the mountain...\n",
      "\n",
      "\n",
      "--- Chunk 2 (126 tokens) of 12 ---\n",
      "These mountains were full of hollow places underneath; huge caverns, and winding ways, some with water running through them, and some shining with all colours of the rainbow when a light was taken in. There would not have been much known about them, had there not been mines there, great deep pits, w...\n",
      "\n",
      "\n",
      "--- Chunk 3 (624 tokens) of 12 ---\n",
      "Now in these subterranean caverns lived a strange race of beings, called by some gnomes, by some kobolds, by some goblins. There was a legend current in the country that at one time they lived above ground, and were very like other people. But for some reason or other, concerning which there were di...\n",
      "\n",
      "\n",
      "--- Chunk 4 (35 tokens) of 12 ---\n",
      "###  CHAPTER 2 - The Princess Loses Herself\n",
      "\n",
      "I have said the Princess Irene was about eight years old when my story begins. And this is how it begins.\n",
      "\n",
      "\n",
      "--- Chunk 5 (332 tokens) of 12 ---\n",
      "One very wet day, when the mountain was covered with mist which was constantly gathering itself together into raindrops, and pouring down on the roofs of the great old house, whence it fell in a fringe of water from the eaves all round about it, the princess could not of course go out. She got very ...\n",
      "\n",
      "\n",
      "--- Chunk 6 (106 tokens) of 12 ---\n",
      "Even that is a change, and the princess wakes up a little, and looks about her. Then she tumbles off her chair and runs out of the door, not the same door the nurse went out of, but one which opened at the foot of a curious old stair of worm-eaten oak, which looked as if never anyone had set foot up...\n",
      "\n",
      "\n",
      "--- Chunk 7 (199 tokens) of 12 ---\n",
      "Up and up she ran--such a long way it seemed to her!--until she came to the top of the third flight. There she found the landing was the end of a long passage. Into this she ran. It was full of doors on each side. There were so many that she did not care to open any, but ran on to the end, where she...\n",
      "\n",
      "\n",
      "--- Chunk 8 (108 tokens) of 12 ---\n",
      "She ran for some distance, turned several times, and then began to be afraid. Very soon she was sure that she had lost the way back. Rooms everywhere, and no stair! Her little heart beat as fast as her little feet ran, and a lump of tears was growing in her throat. But she was too eager and perhaps ...\n",
      "\n",
      "\n",
      "--- Chunk 9 (250 tokens) of 12 ---\n",
      "She did not cry long, however, for she was as brave as could be expected of a princess of her age. After a good cry, she got up, and brushed the dust from her frock. Oh, what old dust it was! Then she wiped her eyes with her hands, for princesses don't always have their handkerchiefs in their pocket...\n",
      "\n",
      "\n",
      "--- Chunk 10 (258 tokens) of 12 ---\n",
      "When she came to the top, she found herself in a little square place, with three doors, two opposite each other, and one opposite the top of the stair. She stood for a moment, without an idea in her little head what to do next. But as she stood, she began to hear a curious humming sound. Could it be...\n",
      "\n",
      "\n",
      "--- Chunk 11 (292 tokens) of 12 ---\n",
      "Perhaps you will wonder how the princess could tell that the old lady was an old lady, when I inform you that not only was she beautiful, but her skin was smooth and white. I will tell you more. Her hair was combed back from her forehead and face, and hung loose far down and all over her back. That ...\n",
      "\n",
      "\n",
      "--- Chunk 12 (64 tokens) of 12 ---\n",
      "'Come to me, my dear,' said the old lady.\n",
      "\n",
      "And again the princess did as she was told. She approached the old lady--rather slowly, I confess--but did not stop until she stood by her side, and looked up in her face with her blue eyes and the two melted stars in them.\n",
      "\n",
      "\n",
      "✅ 12 chunks created and saved to 'markdown_chunks.json'\n"
     ]
    }
   ],
   "source": [
    "# Load the markdown file\n",
    "with open(filename, \"r\", encoding=\"utf-8\") as f:\n",
    "    lines = f.readlines()\n",
    "\n",
    "# Set up tokenizer (GPT-4-compatible)\n",
    "enc = tiktoken.encoding_for_model(\"gpt-4\")  # or \"gpt-4o\" if preferred\n",
    "\n",
    "# ---------- Structure Detection Helpers ----------\n",
    "def is_heading(line):\n",
    "    return re.match(r\"^#{1,6} \", line)\n",
    "\n",
    "def is_list_item(line):\n",
    "    return re.match(r\"^(\\s*[-*+] |\\s*\\d+\\.\\s)\", line)\n",
    "\n",
    "def is_blockquote(line):\n",
    "    return line.strip().startswith(\">\")\n",
    "\n",
    "def is_code_fence(line):\n",
    "    # This regex looks for lines that start with at least three backticks\n",
    "    # and optionally include language specifiers. It also handles closing fences.\n",
    "    return re.match(r\"^\\s*`{3,}\", line)\n",
    "\n",
    "def is_blank(line):\n",
    "    return line.strip() == \"\"\n",
    "\n",
    "# ---------- Group Lines into Logical Blocks ----------\n",
    "blocks = []\n",
    "current_block = []\n",
    "in_code_block = False\n",
    "in_blockquote_block = False # New flag for blockquote\n",
    "\n",
    "for line in lines:\n",
    "    if is_code_fence(line):\n",
    "        # If exiting a blockquote before a code fence, close it out\n",
    "        if in_blockquote_block and current_block:\n",
    "            blocks.append(\"\".join(current_block).strip())\n",
    "            current_block = []\n",
    "            in_blockquote_block = False\n",
    "\n",
    "        in_code_block = not in_code_block\n",
    "        current_block.append(line)\n",
    "        if not in_code_block: # If just closed a code block\n",
    "            blocks.append(\"\".join(current_block).strip())\n",
    "            current_block = []\n",
    "        continue # Move to next line, as code fence handled itself\n",
    "\n",
    "    if in_code_block: # If currently inside a code block\n",
    "        current_block.append(line)\n",
    "        continue\n",
    "\n",
    "    # Handle blockquotes\n",
    "    if is_blockquote(line):\n",
    "        if not in_blockquote_block: # If starting a new blockquote block\n",
    "            if current_block: # If there's a preceding block of different type\n",
    "                blocks.append(\"\".join(current_block).strip())\n",
    "                current_block = []\n",
    "            in_blockquote_block = True\n",
    "        current_block.append(line) # Always append blockquote lines to current_block\n",
    "    else: # Not a blockquote line\n",
    "        if in_blockquote_block: # If exiting a blockquote block\n",
    "            if current_block: # Ensure there's content to append\n",
    "                blocks.append(\"\".join(current_block).strip())\n",
    "                current_block = []\n",
    "            in_blockquote_block = False # Reset the flag\n",
    "\n",
    "        # Handle other block types outside of blockquote logic\n",
    "        if is_heading(line) or is_list_item(line):\n",
    "            if current_block: # If there's a preceding block of different type\n",
    "                blocks.append(\"\".join(current_block).strip())\n",
    "                current_block = []\n",
    "            current_block.append(line)\n",
    "        elif is_blank(line):\n",
    "            if current_block: # If there's content to append before a blank line\n",
    "                blocks.append(\"\".join(current_block).strip())\n",
    "                current_block = []\n",
    "            # Do not append blank lines themselves as blocks, they act as separators\n",
    "        else: # Regular paragraph text\n",
    "            current_block.append(line)\n",
    "\n",
    "# Add any remaining content in current_block as a final block\n",
    "if current_block:\n",
    "    blocks.append(\"\".join(current_block).strip())\n",
    "\n",
    "# ---------- Group Blocks into Token-Aware Chunks ----------\n",
    "target_tokens = 300 # 150\n",
    "max_tokens = 400 # 180 # Not explicitly used for dynamic splitting in this structure, but good for upper bound\n",
    "chunks = []\n",
    "current_chunk = []\n",
    "current_token_count = 0\n",
    "chunk_id = 1\n",
    "\n",
    "for block in blocks:\n",
    "    block_tokens = len(enc.encode(block))\n",
    "\n",
    "    # If adding the current block exceeds the target and there's already content in the current chunk\n",
    "    # then finalize the current chunk and start a new one.\n",
    "    if current_token_count + block_tokens > target_tokens and current_chunk:\n",
    "        chunk_text = \"\\n\\n\".join(current_chunk) # This is where blocks are joined\n",
    "        chunks.append({\n",
    "            \"chunk_id\": chunk_id,\n",
    "            \"tokens\": current_token_count,\n",
    "            \"text\": chunk_text\n",
    "        })\n",
    "        chunk_id += 1\n",
    "        current_chunk = []\n",
    "        current_token_count = 0\n",
    "\n",
    "    current_chunk.append(block)\n",
    "    current_token_count += block_tokens\n",
    "\n",
    "# Add final chunk if there's any remaining content\n",
    "if current_chunk:\n",
    "    chunk_text = \"\\n\\n\".join(current_chunk)\n",
    "    chunks.append({\n",
    "        \"chunk_id\": chunk_id,\n",
    "        \"tokens\": current_token_count,\n",
    "        \"text\": chunk_text\n",
    "    })\n",
    "\n",
    "# ---------- Optional: Save as JSON ----------\n",
    "output_json_filename = \"markdown_chunks.json\"\n",
    "with open(output_json_filename, \"w\", encoding=\"utf-8\") as f:\n",
    "    json.dump(chunks, f, ensure_ascii=False, indent=2)\n",
    "\n",
    "# ---------- Preview ----------\n",
    "for chunk in chunks:\n",
    "    # Print only the first 300 characters for preview to avoid large output\n",
    "    print(f\"\\n--- Chunk {chunk['chunk_id']} ({chunk['tokens']} tokens) of {len(chunks)} ---\\n{chunk['text'][:300]}{'...' if len(chunk['text']) > 300 else ''}\\n\")\n",
    "print(f\"\\n✅ {len(chunks)} chunks created and saved to '{output_json_filename}'\")"
   ]
  },
  {
   "cell_type": "markdown",
   "id": "e7531e74-b2f4-42f2-93e3-16866bf5c0d7",
   "metadata": {},
   "source": [
    "### Translation prompt (system_message)"
   ]
  },
  {
   "cell_type": "code",
   "execution_count": 8,
   "id": "55dcfdb2-f4bc-4722-86f6-6aabb1f43c52",
   "metadata": {},
   "outputs": [],
   "source": [
    "# Prompt instruction\n",
    "system_message = f\"\"\"\n",
    "You are a professional translator of classic literary works in English.\n",
    "Your task is to translate chunked markdown inputs (headings, paragraphs, blockquotes, lists, code blocks, etc.) from {source_language} into {translated_language}, preserving all original formatting and markdown syntax exactly.\n",
    "\n",
    "Requirements:\n",
    "1. Faithfully render every word and phrase; do NOT summarize, simplify, omit, or add commentary.\n",
    "2. Use vocabulary and idioms familiar to a general readership audience.\n",
    "3. Preserve all punctuation, inline code, and block structures.\n",
    "4. Maintain consistent translation approach across all chunks.\n",
    "5. Retain capitalization of proper names and headings exactly as in the source.\n",
    "6. Output only the translated markdown text: no explanations, no extra whitespace beyond what is in the input.\n",
    "\n",
    "Start each response with the translated chunk; do not include any metadata or system commentary.\n",
    "\"\"\"\n",
    "\n",
    "messages = [{\"role\": \"user\", \"content\": system_message}]"
   ]
  },
  {
   "cell_type": "code",
   "execution_count": 9,
   "id": "a0a8c7c1-a9e8-4867-81a5-45011e91f221",
   "metadata": {
    "scrolled": true
   },
   "outputs": [
    {
     "data": {
      "text/plain": [
       "'\\nYou are a professional translator of classic literary works in English.\\nYour task is to translate chunked markdown inputs (headings, paragraphs, blockquotes, lists, code blocks, etc.) from English into Traditional Chinese, preserving all original formatting and markdown syntax exactly.\\n\\nRequirements:\\n1. Faithfully render every word and phrase; do NOT summarize, simplify, omit, or add commentary.\\n2. Use vocabulary and idioms familiar to a general readership audience.\\n3. Preserve all punctuation, inline code, and block structures.\\n4. Maintain consistent translation approach across all chunks.\\n5. Retain capitalization of proper names and headings exactly as in the source.\\n6. Output only the translated markdown text: no explanations, no extra whitespace beyond what is in the input.\\n\\nStart each response with the translated chunk; do not include any metadata or system commentary.\\n'"
      ]
     },
     "execution_count": 9,
     "metadata": {},
     "output_type": "execute_result"
    }
   ],
   "source": [
    "system_message"
   ]
  },
  {
   "cell_type": "code",
   "execution_count": 10,
   "id": "ed8877f7-04cf-4552-967c-d6867d8b44e4",
   "metadata": {
    "scrolled": true
   },
   "outputs": [
    {
     "data": {
      "text/plain": [
       "genai.GenerativeModel(\n",
       "    model_name='models/gemini-2.5-pro',\n",
       "    generation_config={},\n",
       "    safety_settings={},\n",
       "    tools=None,\n",
       "    system_instruction=None,\n",
       "    cached_content=None\n",
       ")"
      ]
     },
     "execution_count": 10,
     "metadata": {},
     "output_type": "execute_result"
    }
   ],
   "source": [
    "gemini"
   ]
  },
  {
   "cell_type": "code",
   "execution_count": 11,
   "id": "706b908f-ffbd-49a5-86f7-c20c22491def",
   "metadata": {},
   "outputs": [
    {
     "name": "stdout",
     "output_type": "stream",
     "text": [
      "Gemini model: gemini-2.5-pro\n",
      "OpenAI model: o3-2025-04-16\n",
      "Claude model: claude-sonnet-4-0\n",
      "Translation language: Traditional Chinese\n"
     ]
    }
   ],
   "source": [
    "print(f\"Gemini model: {gemini_model}\")\n",
    "print(f\"OpenAI model: {openai_model}\")\n",
    "print(f\"Claude model: {claude_model}\")\n",
    "print(f\"Translation language: {translated_language}\")"
   ]
  },
  {
   "cell_type": "markdown",
   "id": "639fa2c4-eb53-4157-b3c8-47519abb496c",
   "metadata": {},
   "source": [
    "### Translation function (translate_chunk)"
   ]
  },
  {
   "cell_type": "code",
   "execution_count": 12,
   "id": "475888ef-2294-488e-bff8-1af8152f814b",
   "metadata": {},
   "outputs": [],
   "source": [
    "# Translator function with error reporting to 'error', handling empty returns, and a settable max retries \n",
    "\n",
    "def translate_chunk(\n",
    "    text: str,\n",
    "    system_message: str,\n",
    "    idx: int = None,\n",
    "    total: int = None,\n",
    "    retry_on_rate_limit: bool = True\n",
    ") -> str:\n",
    "    \"\"\"\n",
    "    Sends one chunk of text through Gemini and returns the translated string.\n",
    "    Retries once on exceptions or empty responses, and records errors in chunk['error'].\n",
    "    If both the initial call and retry fail, returns the sentinel \"translation failed\".\n",
    "    \"\"\"\n",
    "    if idx is not None and total is not None:\n",
    "        print(\n",
    "            f\"Translating chunk {idx}/{total} \"\n",
    "            f\"(first 50 chars): {text[:50]}... | Type: {type(text)}\"\n",
    "        )\n",
    "   \n",
    "    prompt = system_message + \"\\n\\n\" + text\n",
    "    attempt = 0\n",
    "    MAX_RETRIES = 1\n",
    "\n",
    "    while True:\n",
    "        try:\n",
    "            response = gemini.generate_content(\n",
    "                contents=[{\"role\": \"user\", \"parts\": [prompt]}]\n",
    "            )\n",
    "            out = response.text.strip()\n",
    "            if not out:\n",
    "                # treat empty response as an error\n",
    "                raise ValueError(\"Empty response from Gemini\")\n",
    "            return out\n",
    "\n",
    "        except Exception as e:\n",
    "            attempt += 1\n",
    "            print(f\"⚠️  Translation error on chunk {idx}: {e}\")\n",
    "            # record the error into the chunk dict if available\n",
    "            try:\n",
    "                chunk.setdefault('error', str(e))\n",
    "            except NameError:\n",
    "                pass  # chunk not in scope here\n",
    "\n",
    "            if not retry_on_rate_limit or attempt > MAX_RETRIES:\n",
    "                print(f\"‼️  Translation failed for chunk {idx}, moving on.\")\n",
    "                return \"translation failed\"\n",
    "\n",
    "            print(\"…retrying after brief pause…\")\n",
    "            time.sleep(2)\n"
   ]
  },
  {
   "cell_type": "code",
   "execution_count": null,
   "id": "e82cb085-2110-4ac5-b925-db25066bcc55",
   "metadata": {},
   "outputs": [],
   "source": []
  },
  {
   "cell_type": "markdown",
   "id": "ffe2189d-334b-4e1b-9f45-f17a19005878",
   "metadata": {},
   "source": [
    "### Call translation function"
   ]
  },
  {
   "cell_type": "code",
   "execution_count": 13,
   "id": "a8f2c1b7-ee2b-408f-abec-e67bacbabf95",
   "metadata": {},
   "outputs": [
    {
     "name": "stdout",
     "output_type": "stream",
     "text": [
      "Translating chunk 1/12 (first 50 chars): # Title: The Princess and the Goblin\n",
      "\n",
      "## Author: G... | Type: <class 'str'>\n",
      "✅ Updated chunk_id 1\n",
      "\n",
      "Translating chunk 2/12 (first 50 chars): These mountains were full of hollow places underne... | Type: <class 'str'>\n",
      "✅ Updated chunk_id 2\n",
      "\n",
      "Translating chunk 3/12 (first 50 chars): Now in these subterranean caverns lived a strange ... | Type: <class 'str'>\n",
      "✅ Updated chunk_id 3\n",
      "\n",
      "Translating chunk 4/12 (first 50 chars): ###  CHAPTER 2 - The Princess Loses Herself\n",
      "\n",
      "I hav... | Type: <class 'str'>\n",
      "✅ Updated chunk_id 4\n",
      "\n",
      "Translating chunk 5/12 (first 50 chars): One very wet day, when the mountain was covered wi... | Type: <class 'str'>\n",
      "✅ Updated chunk_id 5\n",
      "\n",
      "Translating chunk 6/12 (first 50 chars): Even that is a change, and the princess wakes up a... | Type: <class 'str'>\n",
      "✅ Updated chunk_id 6\n",
      "\n",
      "Translating chunk 7/12 (first 50 chars): Up and up she ran--such a long way it seemed to he... | Type: <class 'str'>\n",
      "✅ Updated chunk_id 7\n",
      "\n",
      "Translating chunk 8/12 (first 50 chars): She ran for some distance, turned several times, a... | Type: <class 'str'>\n",
      "✅ Updated chunk_id 8\n",
      "\n",
      "Translating chunk 9/12 (first 50 chars): She did not cry long, however, for she was as brav... | Type: <class 'str'>\n",
      "✅ Updated chunk_id 9\n",
      "\n",
      "Translating chunk 10/12 (first 50 chars): When she came to the top, she found herself in a l... | Type: <class 'str'>\n",
      "✅ Updated chunk_id 10\n",
      "\n",
      "Translating chunk 11/12 (first 50 chars): Perhaps you will wonder how the princess could tel... | Type: <class 'str'>\n",
      "✅ Updated chunk_id 11\n",
      "\n",
      "Translating chunk 12/12 (first 50 chars): 'Come to me, my dear,' said the old lady.\n",
      "\n",
      "And aga... | Type: <class 'str'>\n",
      "✅ Updated chunk_id 12\n",
      "\n",
      "⏱️ Total processing time: 0h 5m 38.27s\n"
     ]
    }
   ],
   "source": [
    "# Start the master timer\n",
    "master_start = time.perf_counter()\n",
    "\n",
    "for i, chunk in enumerate(chunks, start=1):\n",
    "    chunk['error'] = None\n",
    "    translated = translate_chunk(\n",
    "        chunk['text'],\n",
    "        system_message,\n",
    "        idx=i,\n",
    "        total=len(chunks),\n",
    "        retry_on_rate_limit=True\n",
    "    )\n",
    "    chunk['check'] = translated\n",
    "    print(f\"✅ Updated chunk_id {chunk['chunk_id']}\\n\")\n",
    "\n",
    "# Stop the master timer and report H:M:S\n",
    "master_end = time.perf_counter()\n",
    "total_seconds = master_end - master_start\n",
    "hours   = int(total_seconds // 3600)\n",
    "minutes = int((total_seconds % 3600) // 60)\n",
    "seconds = total_seconds % 60\n",
    "\n",
    "print(\n",
    "    f\"⏱️ Total processing time: \"\n",
    "    f\"{hours}h {minutes}m {seconds:.2f}s\"\n",
    ")"
   ]
  },
  {
   "cell_type": "code",
   "execution_count": 14,
   "id": "8772f70e-556c-40a0-81c5-a791660163d3",
   "metadata": {},
   "outputs": [
    {
     "data": {
      "text/plain": [
       "12"
      ]
     },
     "execution_count": 14,
     "metadata": {},
     "output_type": "execute_result"
    }
   ],
   "source": [
    "len(chunks)"
   ]
  },
  {
   "cell_type": "code",
   "execution_count": 15,
   "id": "82505508-b529-453f-8569-26a0dfee0f4d",
   "metadata": {
    "scrolled": true
   },
   "outputs": [
    {
     "data": {
      "text/plain": [
       "{'chunk_id': 1,\n",
       " 'tokens': 265,\n",
       " 'text': '# Title: The Princess and the Goblin\\n\\n## Author: George MacDonald\\n\\n## Year: 1872\\n\\n-------\\n\\n###  CHAPTER 1 - Why the Princess Has a Story About Her\\n\\nThere was once a little princess whose father was king over a great country full of mountains and valleys. His palace was built upon one of the mountains, and was very grand and beautiful. The princess, whose name was Irene, was born there, but she was sent soon after her birth, because her mother was not very strong, to be brought up by country people in a large house, half castle, half farmhouse, on the side of another mountain, about half-way between its base and its peak.\\n\\nThe princess was a sweet little creature, and at the time my story begins was about eight years old, I think, but she got older very fast. Her face was fair and pretty, with eyes like two bits of night sky, each with a star dissolved in the blue. Those eyes you would have thought must have known they came from there, so often were they turned up in that direction. The ceiling of her nursery was blue, with stars in it, as like the sky as they could make it. But I doubt if ever she saw the real sky with the stars in it, for a reason which I had better mention at once.',\n",
       " 'error': None,\n",
       " 'check': '# 書名：公主與哥布林\\n\\n## 作者：喬治·麥克唐納\\n\\n## 年份：1872\\n\\n-------\\n\\n###  第一章 - 為何公主要有個故事\\n\\n從前，有位小公主，她的父王統治著一個滿是群山與谷地的大國。他的宮殿建在一座山上，既宏偉又美麗。這位名叫Irene的公主就在那裡出生，但她出生後不久，因為母親身體不太好，便被送去給鄉下人撫養，住在一棟大房子裡，那房子半是城堡，半是農莊，位於另一座山的山腰上，大約在山腳與山頂之間的中點。\\n\\n公主是個可愛的小人兒，在我的故事開始時，我想，她大約八歲，但她長得很快。她的臉龐白皙而美麗，有著一雙像兩片夜空的眼睛，每一片湛藍中都溶著一顆星星。你會以為那雙眼睛一定知道自己是從那裡來的，因為它們總是那麼頻繁地朝那個方向仰望。她育兒室的天花板是藍色的，上面有星星，他們盡其所能地將它做得像天空一樣。但我懷疑她是否曾見過真正有星星的天空，原因我最好現在就說明白。'}"
      ]
     },
     "execution_count": 15,
     "metadata": {},
     "output_type": "execute_result"
    }
   ],
   "source": [
    "chunks[0]"
   ]
  },
  {
   "cell_type": "markdown",
   "id": "ad608416-0c9c-493e-93ce-0866454cdd05",
   "metadata": {},
   "source": [
    "#### Check for errors"
   ]
  },
  {
   "cell_type": "code",
   "execution_count": 16,
   "id": "384093dc-a85b-420b-a485-f1b657c92951",
   "metadata": {},
   "outputs": [
    {
     "name": "stdout",
     "output_type": "stream",
     "text": [
      "No error: 12, With error: 0\n",
      "Chunks containing errors:\n",
      "[]\n"
     ]
    }
   ],
   "source": [
    "# Identify and display error entries\n",
    "errors = [chunk for chunk in chunks if chunk.get('error')]\n",
    "\n",
    "# Count\n",
    "eno_error = len([c for c in chunks if c.get('error') is None])\n",
    "has_error = len(errors)\n",
    "print(f\"No error: {eno_error}, With error: {has_error}\")\n",
    "\n",
    "# Pretty-print error chunks\n",
    "print(\"Chunks containing errors:\")\n",
    "print(json.dumps(errors, ensure_ascii=False, indent=2))"
   ]
  },
  {
   "cell_type": "code",
   "execution_count": 17,
   "id": "cdbba164-1948-4ab5-8774-3096b4d7f756",
   "metadata": {},
   "outputs": [],
   "source": [
    "# chunks"
   ]
  },
  {
   "cell_type": "markdown",
   "id": "d81c57cf-0854-45e8-bcca-a77d3d9e2841",
   "metadata": {},
   "source": [
    "### Evaluation function definition"
   ]
  },
  {
   "cell_type": "code",
   "execution_count": 18,
   "id": "d806377b-1573-4caf-8bb9-1da6081418ad",
   "metadata": {},
   "outputs": [],
   "source": [
    "def evaluate_chunk(\n",
    "    chunk: dict,\n",
    "    system_message: str,\n",
    "    source_language: str,\n",
    "    translated_language: str,\n",
    "    translate_func,\n",
    "    idx: int = None,\n",
    "    total: int = None,\n",
    "    retry_on_failure: bool = True\n",
    ") -> str:\n",
    "    \"\"\"\n",
    "    1) Runs primary evaluation on chunk['check'] and records chunk['primary_feedback'].\n",
    "    2) If passed, sets chunk['final']=chunk['check'], chunk['final_model']=gemini_model.\n",
    "    3) If failed and retry_on_failure, translates with Claude, records chunk['alt_feedback'], re-evaluates once.\n",
    "    4) On fallback pass, sets chunk['final']=fallback text and chunk['final_model']=claude_model; if both fail, final_model=None.\n",
    "    Returns chunk['final'].\n",
    "    \"\"\"\n",
    "\n",
    "    def _call_evaluator(text_to_check: str):\n",
    "        # Build the evaluation prompt with localized name exceptions\n",
    "        evaluation_prompt = f\"\"\"\n",
    "You are a professional translation evaluator reviewing translated classic literary works for a general audience. \n",
    "Your task is to assess whether a translated markdown chunk faithfully and accurately follows the original, based on the following criteria:\n",
    "\n",
    "The input text is chunked and therefore may include partial or incomplete sentences. Do not reject the accuracy of the translation due to chunking issues.\n",
    "\n",
    "1. **Accuracy**: The meaning is faithfully preserved — no additions, omissions, or summarizations.\n",
    "2. **Contextual Fidelity**: Terms are rendered precisely and consistently.\n",
    "3. **Markdown Integrity**: All formatting (headings, lists, blockquotes, punctuation, verse references, etc.) is preserved exactly.\n",
    "4. **Audience Awareness**: Language attempts to translate idioms and style as best as feasible for a translated work.\n",
    "5. **Proper Names and Capitalization**: All names and headings match the source formatting, or uses standard, established equivalents in target lan\n",
    "\n",
    "Source:\n",
    "{chunk['text']}\n",
    "\n",
    "Translation:\n",
    "{text_to_check}\n",
    "\n",
    "Respond with ONLY raw JSON:\n",
    "{{\n",
    "  \"passed\": true or false,\n",
    "  \"feedback\": \"If failed, brief specific reason; empty if passed\"\n",
    "}}\n",
    "\"\"\".strip()\n",
    "\n",
    "        resp = openai.chat.completions.create(\n",
    "            model=openai_model,\n",
    "            messages=[{\"role\": \"user\", \"content\": evaluation_prompt}]\n",
    "        ).choices[0].message.content.strip()\n",
    "        clean = re.sub(r'^```(?:json)?\\r?\\n', '', resp)\n",
    "        clean = re.sub(r'\\r?\\n```$', '', clean)\n",
    "        return json.loads(clean)\n",
    "\n",
    "    # Primary evaluation\n",
    "    if idx and total:\n",
    "        print(f\"Evaluating chunk {idx}/{total} with {gemini_model}…\", end=\" \")\n",
    "    verdict = _call_evaluator(chunk['check'])\n",
    "    chunk['primary_feedback'] = verdict.get('feedback', \"\")\n",
    "    chunk['passed'] = verdict.get('passed', False)\n",
    "\n",
    "    if chunk['passed']:\n",
    "        chunk['final'] = chunk['check']\n",
    "        chunk['final_model'] = gemini_model\n",
    "        print(\"→ primary passed\")\n",
    "        return chunk['final']\n",
    "\n",
    "    # Fallback to Claude\n",
    "    chunk['alt_feedback'] = None\n",
    "    if retry_on_failure:\n",
    "        print(\"→ primary failed; translating with Claude…\")\n",
    "        claude_resp = claude.messages.create(\n",
    "                    model=claude_model,\n",
    "                    messages=[\n",
    "                        {\"role\": \"user\",   \"content\": system_message + \"\\n\\n\" + chunk[\"text\"]\n",
    "                        }\n",
    "                    ],\n",
    "                    max_tokens=1000\n",
    "                )\n",
    "        \n",
    "        alt_text = claude_resp.content[0].text\n",
    "        chunk['check_alt'] = alt_text\n",
    "\n",
    "        if idx and total:\n",
    "            print(f\"Re-evaluating chunk {idx}/{total} with {claude_model}…\", end=\" \")\n",
    "        verdict2 = _call_evaluator(alt_text)\n",
    "        chunk['alt_feedback'] = verdict2.get('feedback', \"\")\n",
    "        chunk['passed'] = verdict2.get('passed', False)\n",
    "\n",
    "        if chunk['passed']:\n",
    "            chunk['final'] = alt_text\n",
    "            chunk['final_model'] = claude_model\n",
    "            print(\"→ fallback passed\")\n",
    "            return chunk['final']\n",
    "\n",
    "    # Both failed\n",
    "    reason = chunk['alt_feedback'] or chunk['primary_feedback'] or 'Unknown reason'\n",
    "    chunk['final'] = (\n",
    "        f\"Translation into {translated_language} failed: {reason}\"\n",
    "    )\n",
    "    chunk['final_model'] = None\n",
    "    print(f\"→ both evaluations failed: {reason}\")\n",
    "    return chunk['final']\n"
   ]
  },
  {
   "cell_type": "code",
   "execution_count": null,
   "id": "4f697660-8512-44a1-b9c8-2e06d2c0f919",
   "metadata": {},
   "outputs": [],
   "source": []
  },
  {
   "cell_type": "markdown",
   "id": "05b29e37-5417-413a-9ad9-58356bfbc65e",
   "metadata": {},
   "source": [
    "### Call the Evaluation function"
   ]
  },
  {
   "cell_type": "code",
   "execution_count": 19,
   "id": "1e227307-9849-4cfd-a9ba-0bab45af2294",
   "metadata": {},
   "outputs": [
    {
     "name": "stdout",
     "output_type": "stream",
     "text": [
      "\n",
      "--- Chunk 1/12 (ID: 1) ---\n",
      "✅ Using existing translation; starting evaluation…\n",
      "Evaluating chunk 1/12 with gemini-2.5-pro… → primary passed\n",
      "🎉 Chunk 1 passed! Saved to chunk['final'].\n",
      "\n",
      "\n",
      "--- Chunk 2/12 (ID: 2) ---\n",
      "✅ Using existing translation; starting evaluation…\n",
      "Evaluating chunk 2/12 with gemini-2.5-pro… → primary passed\n",
      "🎉 Chunk 2 passed! Saved to chunk['final'].\n",
      "\n",
      "\n",
      "--- Chunk 3/12 (ID: 3) ---\n",
      "✅ Using existing translation; starting evaluation…\n",
      "Evaluating chunk 3/12 with gemini-2.5-pro… → primary passed\n",
      "🎉 Chunk 3 passed! Saved to chunk['final'].\n",
      "\n",
      "\n",
      "--- Chunk 4/12 (ID: 4) ---\n",
      "✅ Using existing translation; starting evaluation…\n",
      "Evaluating chunk 4/12 with gemini-2.5-pro… → primary passed\n",
      "🎉 Chunk 4 passed! Saved to chunk['final'].\n",
      "\n",
      "\n",
      "--- Chunk 5/12 (ID: 5) ---\n",
      "✅ Using existing translation; starting evaluation…\n",
      "Evaluating chunk 5/12 with gemini-2.5-pro… → primary passed\n",
      "🎉 Chunk 5 passed! Saved to chunk['final'].\n",
      "\n",
      "\n",
      "--- Chunk 6/12 (ID: 6) ---\n",
      "✅ Using existing translation; starting evaluation…\n",
      "Evaluating chunk 6/12 with gemini-2.5-pro… → primary passed\n",
      "🎉 Chunk 6 passed! Saved to chunk['final'].\n",
      "\n",
      "\n",
      "--- Chunk 7/12 (ID: 7) ---\n",
      "✅ Using existing translation; starting evaluation…\n",
      "Evaluating chunk 7/12 with gemini-2.5-pro… → primary passed\n",
      "🎉 Chunk 7 passed! Saved to chunk['final'].\n",
      "\n",
      "\n",
      "--- Chunk 8/12 (ID: 8) ---\n",
      "✅ Using existing translation; starting evaluation…\n",
      "Evaluating chunk 8/12 with gemini-2.5-pro… → primary passed\n",
      "🎉 Chunk 8 passed! Saved to chunk['final'].\n",
      "\n",
      "\n",
      "--- Chunk 9/12 (ID: 9) ---\n",
      "✅ Using existing translation; starting evaluation…\n",
      "Evaluating chunk 9/12 with gemini-2.5-pro… → primary passed\n",
      "🎉 Chunk 9 passed! Saved to chunk['final'].\n",
      "\n",
      "\n",
      "--- Chunk 10/12 (ID: 10) ---\n",
      "✅ Using existing translation; starting evaluation…\n",
      "Evaluating chunk 10/12 with gemini-2.5-pro… → primary passed\n",
      "🎉 Chunk 10 passed! Saved to chunk['final'].\n",
      "\n",
      "\n",
      "--- Chunk 11/12 (ID: 11) ---\n",
      "✅ Using existing translation; starting evaluation…\n",
      "Evaluating chunk 11/12 with gemini-2.5-pro… → primary passed\n",
      "🎉 Chunk 11 passed! Saved to chunk['final'].\n",
      "\n",
      "\n",
      "--- Chunk 12/12 (ID: 12) ---\n",
      "✅ Using existing translation; starting evaluation…\n",
      "Evaluating chunk 12/12 with gemini-2.5-pro… → primary passed\n",
      "🎉 Chunk 12 passed! Saved to chunk['final'].\n",
      "\n",
      "⏱️ Total evaluation time: 0h 3m 33.40s\n"
     ]
    }
   ],
   "source": [
    "# 1) Start the overall timer\n",
    "master_start = time.perf_counter()\n",
    "\n",
    "for idx, chunk in enumerate(chunks, start=1):\n",
    "    # Skip chunks already evaluated\n",
    "    if 'passed' in chunk and 'final_model' in chunk:\n",
    "        print(f\"--- Chunk {idx}/{len(chunks)} (ID: {chunk['chunk_id']}) already evaluated; skipping.\")\n",
    "        continue\n",
    "\n",
    "    # Initialize evaluator-stage error field only\n",
    "    chunk['eval_error'] = None\n",
    "\n",
    "    print(f\"\\n--- Chunk {idx}/{len(chunks)} (ID: {chunk['chunk_id']}) ---\")\n",
    "    print(\"✅ Using existing translation; starting evaluation…\")\n",
    "\n",
    "    try:\n",
    "        # Call the unified evaluate_chunk (includes fallback)\n",
    "        final_text = evaluate_chunk(\n",
    "            chunk,\n",
    "            system_message,\n",
    "            source_language,\n",
    "            translated_language,\n",
    "            translate_chunk,\n",
    "            idx=idx,\n",
    "            total=len(chunks),\n",
    "            retry_on_failure=True\n",
    "        )\n",
    "        chunk['final'] = final_text\n",
    "    except Exception as e:\n",
    "        # Catch any unexpected errors in evaluation\n",
    "        chunk['eval_error'] = str(e)\n",
    "        chunk['final'] = f\"Evaluation error: {e}\"\n",
    "        chunk['final_model'] = None\n",
    "        print(f\"⚠️  Unexpected evaluation error on chunk {chunk['chunk_id']}: {e}\")\n",
    "\n",
    "    # Report outcome\n",
    "    if chunk['final'].startswith(\"Translation into\") or chunk['final'].startswith(\"Evaluation error\"):\n",
    "        print(f\"‼️  Chunk {chunk['chunk_id']} ultimately failed.\\n\")\n",
    "    else:\n",
    "        print(f\"🎉 Chunk {chunk['chunk_id']} passed! Saved to chunk['final'].\\n\")\n",
    "\n",
    "# 2) Stop the overall timer\n",
    "master_end = time.perf_counter()\n",
    "total_seconds = master_end - master_start\n",
    "hours = int(total_seconds // 3600)\n",
    "minutes = int((total_seconds % 3600) // 60)\n",
    "seconds = total_seconds % 60\n",
    "\n",
    "print(\n",
    "    f\"⏱️ Total evaluation time: {hours}h {minutes}m {seconds:.2f}s\"\n",
    ")"
   ]
  },
  {
   "cell_type": "code",
   "execution_count": null,
   "id": "ff0310e0-8906-4914-b252-e93e9025f9d7",
   "metadata": {},
   "outputs": [],
   "source": []
  },
  {
   "cell_type": "code",
   "execution_count": 20,
   "id": "0dc27452-5ffa-4199-aff9-196372e0f2de",
   "metadata": {},
   "outputs": [
    {
     "data": {
      "text/plain": [
       "{'chunk_id': 1,\n",
       " 'tokens': 265,\n",
       " 'text': '# Title: The Princess and the Goblin\\n\\n## Author: George MacDonald\\n\\n## Year: 1872\\n\\n-------\\n\\n###  CHAPTER 1 - Why the Princess Has a Story About Her\\n\\nThere was once a little princess whose father was king over a great country full of mountains and valleys. His palace was built upon one of the mountains, and was very grand and beautiful. The princess, whose name was Irene, was born there, but she was sent soon after her birth, because her mother was not very strong, to be brought up by country people in a large house, half castle, half farmhouse, on the side of another mountain, about half-way between its base and its peak.\\n\\nThe princess was a sweet little creature, and at the time my story begins was about eight years old, I think, but she got older very fast. Her face was fair and pretty, with eyes like two bits of night sky, each with a star dissolved in the blue. Those eyes you would have thought must have known they came from there, so often were they turned up in that direction. The ceiling of her nursery was blue, with stars in it, as like the sky as they could make it. But I doubt if ever she saw the real sky with the stars in it, for a reason which I had better mention at once.',\n",
       " 'error': None,\n",
       " 'check': '# 書名：公主與哥布林\\n\\n## 作者：喬治·麥克唐納\\n\\n## 年份：1872\\n\\n-------\\n\\n###  第一章 - 為何公主要有個故事\\n\\n從前，有位小公主，她的父王統治著一個滿是群山與谷地的大國。他的宮殿建在一座山上，既宏偉又美麗。這位名叫Irene的公主就在那裡出生，但她出生後不久，因為母親身體不太好，便被送去給鄉下人撫養，住在一棟大房子裡，那房子半是城堡，半是農莊，位於另一座山的山腰上，大約在山腳與山頂之間的中點。\\n\\n公主是個可愛的小人兒，在我的故事開始時，我想，她大約八歲，但她長得很快。她的臉龐白皙而美麗，有著一雙像兩片夜空的眼睛，每一片湛藍中都溶著一顆星星。你會以為那雙眼睛一定知道自己是從那裡來的，因為它們總是那麼頻繁地朝那個方向仰望。她育兒室的天花板是藍色的，上面有星星，他們盡其所能地將它做得像天空一樣。但我懷疑她是否曾見過真正有星星的天空，原因我最好現在就說明白。',\n",
       " 'eval_error': None,\n",
       " 'primary_feedback': '',\n",
       " 'passed': True,\n",
       " 'final': '# 書名：公主與哥布林\\n\\n## 作者：喬治·麥克唐納\\n\\n## 年份：1872\\n\\n-------\\n\\n###  第一章 - 為何公主要有個故事\\n\\n從前，有位小公主，她的父王統治著一個滿是群山與谷地的大國。他的宮殿建在一座山上，既宏偉又美麗。這位名叫Irene的公主就在那裡出生，但她出生後不久，因為母親身體不太好，便被送去給鄉下人撫養，住在一棟大房子裡，那房子半是城堡，半是農莊，位於另一座山的山腰上，大約在山腳與山頂之間的中點。\\n\\n公主是個可愛的小人兒，在我的故事開始時，我想，她大約八歲，但她長得很快。她的臉龐白皙而美麗，有著一雙像兩片夜空的眼睛，每一片湛藍中都溶著一顆星星。你會以為那雙眼睛一定知道自己是從那裡來的，因為它們總是那麼頻繁地朝那個方向仰望。她育兒室的天花板是藍色的，上面有星星，他們盡其所能地將它做得像天空一樣。但我懷疑她是否曾見過真正有星星的天空，原因我最好現在就說明白。',\n",
       " 'final_model': 'gemini-2.5-pro'}"
      ]
     },
     "execution_count": 20,
     "metadata": {},
     "output_type": "execute_result"
    }
   ],
   "source": [
    "chunks[0]"
   ]
  },
  {
   "cell_type": "markdown",
   "id": "bcdba103-483d-4ccc-82a2-eaede9bb6592",
   "metadata": {},
   "source": [
    "#### Pass-fail counts"
   ]
  },
  {
   "cell_type": "code",
   "execution_count": 21,
   "id": "4e59c692-dbd6-4e5e-88de-d1375f65d461",
   "metadata": {},
   "outputs": [
    {
     "name": "stdout",
     "output_type": "stream",
     "text": [
      "Passed: 12, Failed: 0\n"
     ]
    }
   ],
   "source": [
    "# Only include entries where 'passed' exists\n",
    "counts = Counter(c.get('passed') for c in chunks if 'passed' in c)\n",
    "print(f\"Passed: {counts[True]}, Failed: {counts[False]}\")"
   ]
  },
  {
   "cell_type": "markdown",
   "id": "a83219ed-977e-4a26-a56a-517493870ecb",
   "metadata": {},
   "source": [
    "#### Print failed entries"
   ]
  },
  {
   "cell_type": "code",
   "execution_count": 22,
   "id": "1734a437-c7b6-4b94-8c4f-73c4e29527a6",
   "metadata": {},
   "outputs": [
    {
     "name": "stdout",
     "output_type": "stream",
     "text": [
      "[]\n"
     ]
    }
   ],
   "source": [
    "# 1) Get only the entries where passed is False\n",
    "fails = [chunk for chunk in chunks if chunk.get('passed') is False]\n",
    "\n",
    "# 2) Dump them as nicely formatted JSON\n",
    "print(json.dumps(fails, ensure_ascii=False, indent=2))"
   ]
  },
  {
   "cell_type": "code",
   "execution_count": null,
   "id": "83ec67f8-4d95-4c62-9db7-3b5d11b89288",
   "metadata": {},
   "outputs": [],
   "source": []
  },
  {
   "cell_type": "markdown",
   "id": "f2b0101b-9222-4ea8-b2a4-e1693be9cd03",
   "metadata": {},
   "source": [
    "### Token size distribution"
   ]
  },
  {
   "cell_type": "code",
   "execution_count": 23,
   "id": "c1c5ab46-e691-490f-9066-3d72c2f637cf",
   "metadata": {},
   "outputs": [
    {
     "data": {
      "image/png": "[encoded data removed]",
      "text/plain": [
       "<Figure size 640x480 with 1 Axes>"
      ]
     },
     "metadata": {},
     "output_type": "display_data"
    }
   ],
   "source": [
    "import matplotlib.pyplot as plt\n",
    "\n",
    "# Extract token counts\n",
    "tokens = [chunk['tokens'] for chunk in chunks]\n",
    "\n",
    "# Create histogram\n",
    "plt.figure()\n",
    "plt.hist(tokens, bins='auto')\n",
    "plt.title('Distribution of Chunk Token Counts')\n",
    "plt.xlabel('Token Count')\n",
    "plt.ylabel('Number of Chunks')\n",
    "plt.show()\n"
   ]
  },
  {
   "cell_type": "markdown",
   "id": "73a471b4-b408-429d-a94a-21e0f48b4c13",
   "metadata": {},
   "source": [
    "# Clean up failed entries, if any"
   ]
  },
  {
   "cell_type": "code",
   "execution_count": 24,
   "id": "71f69aa4-6ec8-4a3d-a7bd-695c358e54ee",
   "metadata": {},
   "outputs": [
    {
     "name": "stdout",
     "output_type": "stream",
     "text": [
      "🔄 Re-evaluating 0 initially failed chunks…\n",
      "\n",
      "⏱️ Total re-evaluation (with fallback) time: 0h 0m 0.00s\n"
     ]
    }
   ],
   "source": [
    "\n",
    "# Mini evaluator function (reuse existing prompt logic)\n",
    "def mini_evaluate(text_to_check: str, source_text: str) -> dict:\n",
    "    evaluation_prompt = f\"\"\"\n",
    "You are a professional translation evaluator reviewing translated Biblical education materials for a Protestant/Evangelical audience.\n",
    "Your task is to assess whether a translated markdown chunk faithfully and accurately follows the original, based on these criteria:\n",
    "\n",
    "1. **Accuracy**: Meaning is preserved—no additions, omissions, or summarizations.\n",
    "2. **Theological Fidelity**: Key theological terms are rendered precisely.\n",
    "3. **Markdown Integrity**: All headings, lists, blockquotes, punctuation, verse references must be preserved.\n",
    "4. **Audience Awareness**: Language reflects Protestant/Evangelical style and idioms.\n",
    "5. **Proper Names**: Preserve proper names exactly, except standard localized equivalents (e.g., Spanish Bible book titles).\n",
    "\n",
    "Source:\n",
    "{source_text}\n",
    "\n",
    "Translation:\n",
    "{text_to_check}\n",
    "\n",
    "Respond with ONLY raw JSON:\n",
    "{{\n",
    "  \"passed\": true or false,\n",
    "  \"feedback\": \"If failed, brief specific reason; empty if passed\"\n",
    "}}\n",
    "\"\"\".strip()\n",
    "\n",
    "    resp = openai.chat.completions.create(\n",
    "        model=openai_model,\n",
    "        messages=[{\"role\": \"user\", \"content\": evaluation_prompt}]\n",
    "    ).choices[0].message.content.strip()\n",
    "\n",
    "    clean = re.sub(r'^```(?:json)?\\r?\\n', '', resp)\n",
    "    clean = re.sub(r'\\r?\\n```$', '', clean)\n",
    "    return json.loads(clean)\n",
    "\n",
    "# Identify currently failing chunks\n",
    "fails = [chunk for chunk in chunks if not chunk.get('passed')]\n",
    "print(f\"🔄 Re-evaluating {len(fails)} initially failed chunks…\")\n",
    "start = time.perf_counter()\n",
    "\n",
    "for idx, chunk in enumerate(fails, start=1):\n",
    "    print(f\"→ [{idx}/{len(fails)}] Re-checking chunk_id {chunk['chunk_id']}…\")\n",
    "    verdict = mini_evaluate(chunk['check'], chunk['text'])\n",
    "    if verdict.get('passed'):\n",
    "        chunk['final'] = chunk['check']\n",
    "        chunk['final_model'] = gemini_model\n",
    "        print(f\"   ✅ chunk_id {chunk['chunk_id']} now passes primary re-check.\")\n",
    "    else:\n",
    "        print(f\"   ❌ chunk_id {chunk['chunk_id']} failed primary re-check: {verdict.get('feedback')}\\n   → Attempting Claude fallback…\")\n",
    "        # run Claude fallback\n",
    "        claude_resp = claude.messages.create(\n",
    "            model=claude_model,\n",
    "            messages=[\n",
    "                {\"role\": \"user\",   \"content\": system_message + \"\\n\\n\" + chunk[\"text\"]\n",
    "                }\n",
    "            ],\n",
    "            max_tokens=1000\n",
    "        )\n",
    "        alt_text = claude_resp.completion.strip()\n",
    "        chunk['check_alt'] = alt_text\n",
    "        # re-evaluate fallback\n",
    "        fallback_verdict = mini_evaluate(alt_text, chunk['text'])\n",
    "        if fallback_verdict.get('passed'):\n",
    "            chunk['final'] = alt_text\n",
    "            chunk['final_model'] = claude_model\n",
    "            print(f\"   ✅ chunk_id {chunk['chunk_id']} now passes with Claude fallback.\")\n",
    "        else:\n",
    "            print(f\"   ❌ chunk_id {chunk['chunk_id']} still fails fallback: {fallback_verdict.get('feedback')}\")\n",
    "\n",
    "end = time.perf_counter()\n",
    "elapsed = end - start\n",
    "hours = int(elapsed // 3600)\n",
    "minutes = int((elapsed % 3600) // 60)\n",
    "seconds = elapsed % 60\n",
    "print(f\"\\n⏱️ Total re-evaluation (with fallback) time: {hours}h {minutes}m {seconds:.2f}s\")\n"
   ]
  },
  {
   "cell_type": "code",
   "execution_count": 25,
   "id": "859a10a8-a688-4b13-a1b6-cf2d814b423a",
   "metadata": {},
   "outputs": [
    {
     "data": {
      "text/plain": [
       "[]"
      ]
     },
     "execution_count": 25,
     "metadata": {},
     "output_type": "execute_result"
    }
   ],
   "source": [
    "fails"
   ]
  },
  {
   "cell_type": "code",
   "execution_count": null,
   "id": "15d8bf77-4678-4361-9ddd-92d41177bee5",
   "metadata": {},
   "outputs": [],
   "source": []
  },
  {
   "cell_type": "code",
   "execution_count": 26,
   "id": "6581f8eb-831b-452e-8743-19c053a609a3",
   "metadata": {},
   "outputs": [
    {
     "name": "stdout",
     "output_type": "stream",
     "text": [
      "Counter({'gemini-2.5-pro': 12})\n"
     ]
    }
   ],
   "source": [
    "from collections import Counter\n",
    "\n",
    "# extract all final_model values (will include None if missing)\n",
    "models = [chunk.get('final_model') for chunk in chunks]\n",
    "\n",
    "# tabulate counts\n",
    "counts = Counter(models)\n",
    "\n",
    "print(counts)\n",
    "# e.g. Counter({'model_A': 123, 'model_B': 77, None: 5})\n"
   ]
  },
  {
   "cell_type": "markdown",
   "id": "6dedd04f-5c06-4d2e-8c2d-91e0088285f1",
   "metadata": {},
   "source": [
    "### Save json"
   ]
  },
  {
   "cell_type": "code",
   "execution_count": 27,
   "id": "1a028279-fdbe-430f-bcbf-d855880fe5e0",
   "metadata": {},
   "outputs": [
    {
     "name": "stdout",
     "output_type": "stream",
     "text": [
      "✅ Exported results to George_MacDonald_The_Princess_and_the_Goblin_50_lines_TraditionalChinese_gemini-2.5-pro_o3-2025-04-16_2025-06-27-193324.json\n"
     ]
    }
   ],
   "source": [
    "# drop the .md extension\n",
    "base = os.path.splitext(filename)[0]\n",
    "\n",
    "# remove spaces if any from output language\n",
    "output_language = translated_language.replace(\" \", \"\")\n",
    "\n",
    "# timestamp in yyyy-mm-dd-hhMMSS format\n",
    "ts = datetime.now().strftime(\"%Y-%m-%d-%H%M%S\")\n",
    "\n",
    "# build the output filename\n",
    "out_fname = f\"{base}_{output_language}_{gemini_model}_{openai_model}_{ts}.json\"\n",
    "\n",
    "# write to disk\n",
    "with open(out_fname, \"w\", encoding=\"utf-8\") as f:\n",
    "    json.dump(chunks, f, ensure_ascii=False, indent=2)\n",
    "\n",
    "print(f\"✅ Exported results to {out_fname}\")\n"
   ]
  },
  {
   "cell_type": "markdown",
   "id": "043ea7cb-417d-4859-81b1-cd47bb53d4b5",
   "metadata": {},
   "source": [
    "### Create and save an interlinear markdown file"
   ]
  },
  {
   "cell_type": "code",
   "execution_count": 28,
   "id": "ca0db2ff-1e4c-43c3-8843-e8da5630bed1",
   "metadata": {},
   "outputs": [
    {
     "name": "stdout",
     "output_type": "stream",
     "text": [
      "✅ Exported merged markdown to George_MacDonald_The_Princess_and_the_Goblin_50_lines_TraditionalChinese_gemini-2.5-pro_o3-2025-04-16_2025-06-27-193324_interlinear.md\n"
     ]
    }
   ],
   "source": [
    "# 1) Turn your existing JSON filename into a .md filename\n",
    "base = os.path.splitext(out_fname)[0]\n",
    "markdown_fname = base + '_interlinear' + '.md'\n",
    "\n",
    "# 2) Write each chunk’s original + final translation into the .md\n",
    "with open(markdown_fname, \"w\", encoding=\"utf-8\") as md_file:\n",
    "    for chunk in chunks:\n",
    "        md_file.write(chunk['text'])\n",
    "        md_file.write(\"\\n\\n\")\n",
    "        md_file.write(chunk.get('final', ''))\n",
    "        md_file.write(\"\\n\\n\")\n",
    "\n",
    "print(f\"✅ Exported merged markdown to {markdown_fname}\")\n"
   ]
  },
  {
   "cell_type": "markdown",
   "id": "28a5f767-2ca5-47c1-a62e-f6a4434475ae",
   "metadata": {},
   "source": [
    "### Create and save translation only markdown file"
   ]
  },
  {
   "cell_type": "code",
   "execution_count": 29,
   "id": "a1b84509-4139-44dc-ae0e-8d0c5021a9f6",
   "metadata": {},
   "outputs": [
    {
     "name": "stdout",
     "output_type": "stream",
     "text": [
      "✅ Exported merged markdown to George_MacDonald_The_Princess_and_the_Goblin_50_lines_TraditionalChinese_gemini-2.5-pro_o3-2025-04-16_2025-06-27-193324_translation_only.md\n"
     ]
    }
   ],
   "source": [
    "# 1) Turn your existing JSON filename into a .md filename\n",
    "base = os.path.splitext(out_fname)[0]\n",
    "markdown_fname = base + '_translation_only' + '.md'\n",
    "\n",
    "# 2) Write each chunk’s original + final translation into the .md\n",
    "with open(markdown_fname, \"w\", encoding=\"utf-8\") as md_file:\n",
    "    for chunk in chunks:\n",
    "        md_file.write(chunk.get('final', ''))\n",
    "        md_file.write(\"\\n\\n\")\n",
    "\n",
    "print(f\"✅ Exported merged markdown to {markdown_fname}\")"
   ]
  },
  {
   "cell_type": "code",
   "execution_count": null,
   "id": "8d7dc26f-a4bd-4ea6-9063-90a62b898043",
   "metadata": {},
   "outputs": [],
   "source": []
  }
 ],
 "metadata": {
  "kernelspec": {
   "display_name": "Python 3 (ipykernel)",
   "language": "python",
   "name": "python3"
  },
  "language_info": {
   "codemirror_mode": {
    "name": "ipython",
    "version": 3
   },
   "file_extension": ".py",
   "mimetype": "text/x-python",
   "name": "python",
   "nbconvert_exporter": "python",
   "pygments_lexer": "ipython3",
   "version": "3.11.10"
  }
 },
 "nbformat": 4,
 "nbformat_minor": 5
}
